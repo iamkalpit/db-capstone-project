{
 "cells": [
  {
   "cell_type": "code",
   "execution_count": 2,
   "id": "50606929-8295-497b-a4c6-c68847851bd4",
   "metadata": {},
   "outputs": [
    {
     "name": "stdout",
     "output_type": "stream",
     "text": [
      "The following packages are already present in the pyproject.toml and will be skipped:\n",
      "\n",
      "  • \u001b[36mmysql-connector-python\u001b[39m\n",
      "\n",
      "If you want to update it to the latest compatible version, you can use `poetry update package`.\n",
      "If you prefer to upgrade it to the latest available version, you can use `poetry add package@latest`.\n",
      "\n",
      "Nothing to add.\n"
     ]
    }
   ],
   "source": [
    "!poetry add mysql-connector-python"
   ]
  },
  {
   "cell_type": "code",
   "execution_count": 20,
   "id": "9f07aa49-a322-4a0f-87a5-a09a53ffad6a",
   "metadata": {},
   "outputs": [],
   "source": [
    "# Import the MySQL Connector/Python Pool\n",
    "import mysql.connector as connector\n",
    "\n",
    "connection = connector.connect(user = \"ultracode\", password = \"ultracode\", db = \"LittleLemonDB\")\n",
    "\n",
    "# Create cursor object to communicate with entire MySQL database\n",
    "cursor = connection.cursor()"
   ]
  },
  {
   "cell_type": "code",
   "execution_count": 21,
   "id": "45b79790-b130-4952-beb8-cee869d1a5b9",
   "metadata": {},
   "outputs": [
    {
     "name": "stdout",
     "output_type": "stream",
     "text": [
      "('LittleLemonDB',)\n",
      "('global_super_store',)\n",
      "('information_schema',)\n",
      "('mangata_gallo',)\n",
      "('md_water_services',)\n",
      "('mg_schema',)\n",
      "('mydb',)\n",
      "('mysql',)\n",
      "('performance_schema',)\n",
      "('sys',)\n",
      "('test',)\n",
      "('united_nations',)\n"
     ]
    }
   ],
   "source": [
    "cursor.execute(\"SHOW DATABASES\")\n",
    "results=cursor.fetchall()\n",
    "for result in results:\n",
    "    print(result)"
   ]
  },
  {
   "cell_type": "code",
   "execution_count": 22,
   "id": "16e5ad81-fed7-46f3-adaa-d66b6fb51ce8",
   "metadata": {},
   "outputs": [
    {
     "name": "stdout",
     "output_type": "stream",
     "text": [
      "('Bookings',)\n",
      "('Customers',)\n",
      "('MenuItems',)\n",
      "('Menus',)\n",
      "('Orders',)\n"
     ]
    }
   ],
   "source": [
    "cursor.execute(\"SHOW TABLES\")\n",
    "results=cursor.fetchall()\n",
    "for result in results:\n",
    "    print(result)"
   ]
  },
  {
   "cell_type": "code",
   "execution_count": 23,
   "id": "fd8400f9-65b3-4962-8b4d-b247aa2651ab",
   "metadata": {},
   "outputs": [
    {
     "name": "stdout",
     "output_type": "stream",
     "text": [
      "('Jane Doe', '987-654-3210', 'jane.doe@example.com')\n",
      "('Peter Parker', '555-1212-1212', 'peter.parker@example.com')\n",
      "('Clark Kent', '777-777-7777', 'clark.kent@example.com')\n",
      "('Diana Prince', '888-888-8888', 'diana.prince@example.com')\n"
     ]
    }
   ],
   "source": [
    "query_with_table_join=\"\"\"SELECT\n",
    "  Customers.FullName,\n",
    "  Customers.ContactNumber,\n",
    "  Customers.Email\n",
    "FROM\n",
    "  Customers\n",
    "JOIN\n",
    "  Orders ON Customers.CustomerID = Orders.CustomerID\n",
    "WHERE\n",
    "  Orders.TotalCost > 60;\"\"\"\n",
    "\n",
    "cursor.execute(query_with_table_join)\n",
    "results=cursor.fetchall()\n",
    "for result in results:\n",
    "    print(result)"
   ]
  }
 ],
 "metadata": {
  "kernelspec": {
   "display_name": "Python 3 (ipykernel)",
   "language": "python",
   "name": "python3"
  },
  "language_info": {
   "codemirror_mode": {
    "name": "ipython",
    "version": 3
   },
   "file_extension": ".py",
   "mimetype": "text/x-python",
   "name": "python",
   "nbconvert_exporter": "python",
   "pygments_lexer": "ipython3",
   "version": "3.11.5"
  }
 },
 "nbformat": 4,
 "nbformat_minor": 5
}
